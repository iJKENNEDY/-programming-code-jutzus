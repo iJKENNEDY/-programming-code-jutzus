{
 "cells": [
  {
   "cell_type": "code",
   "execution_count": null,
   "metadata": {},
   "outputs": [],
   "source": [
    "#CHAPTER--- 001\n",
    "def suma_(a,b):\n",
    "    return a+b\n",
    "\n",
    "def resta_(a,b):\n",
    "    return a -b\n",
    "\n",
    "def producto(a,b):\n",
    "    return a * b\n",
    "\n",
    "def div_(a,b):\n",
    "    return a // b\n",
    "\n",
    "def p__(ff):\n",
    "    print(ff)"
   ]
  },
  {
   "cell_type": "code",
   "execution_count": null,
   "metadata": {},
   "outputs": [],
   "source": [
    "s = suma_(23,33)\n",
    "r = resta_(234,44)\n",
    "pp = producto(21,33)\n",
    "ee = div_(102, 2)\n",
    "\n",
    "p__(s)\n",
    "p__(r)\n",
    "p__(pp*2)\n",
    "p__(ee)"
   ]
  },
  {
   "cell_type": "code",
   "execution_count": null,
   "metadata": {},
   "outputs": [],
   "source": [
    "lang_ = input(\"my favorite language programing is \")\n",
    "print(\"Coding \",lang_)"
   ]
  },
  {
   "cell_type": "code",
   "execution_count": null,
   "metadata": {},
   "outputs": [],
   "source": [
    "n1_ = int(input(\"num1: \"))\n",
    "n2_ = int(input(\"num2: \"))\n",
    "rr = n1_ + n2_\n",
    "print(\"sumando: \", rr)"
   ]
  },
  {
   "cell_type": "code",
   "execution_count": null,
   "metadata": {},
   "outputs": [],
   "source": [
    "print(\"enigma\")"
   ]
  },
  {
   "cell_type": "code",
   "execution_count": null,
   "metadata": {},
   "outputs": [],
   "source": [
    "#--- 009 ----\n",
    "days = int(input(\"Enter the number of days: \"))\n",
    "hours = days * 24\n",
    "minutes= hours * 60\n",
    "seconds = minutes * 60\n",
    "print(\"in\", days, \"days there are...\")\n",
    "print(minutes, \"minutes\")\n",
    "print(seconds, \"seconds\")"
   ]
  },
  {
   "cell_type": "code",
   "execution_count": null,
   "metadata": {},
   "outputs": [],
   "source": [
    "#-- 0010 ---\n",
    "kilo = int(input(\"enter the number of kilos: \"))\n",
    "pound = kilo * 2.204\n",
    "print(\"That is\", pound, \"pounds\")"
   ]
  },
  {
   "cell_type": "code",
   "execution_count": null,
   "metadata": {},
   "outputs": [],
   "source": [
    "#..statement...\n",
    "num = int(input(\"Enter a number between 10 and 20: \"))\n",
    "if num >= 10 and num <=20:\n",
    "    print(\"Thank you\")    "
   ]
  },
  {
   "cell_type": "code",
   "execution_count": null,
   "metadata": {},
   "outputs": [],
   "source": [
    "import random\n",
    "def lotto222():\n",
    "    z = 40\n",
    "    for i in range(32):\n",
    "        n1 = random.randint(1,z)\n",
    "        n2 = random.randint(1,z)\n",
    "        n3 = random.randint(1,z)\n",
    "        n4 = random.randint(1,z)\n",
    "        n5 = random.randint(1,z)\n",
    "        n6 = random.randint(1,z)\n",
    "        \n",
    "        if n1!=n2 and n2!=n3 and n3!=n4 and n4!=n5 and n5!=n6:\n",
    "            if n1!=n3 and n1!=n4 and n1!=n5 and n1!=n6:\n",
    "                if n2!=n4 and n2!=n5 and n2!=n6:\n",
    "                    if n3!=n5 and n3!=n6 and n4!=n6:\n",
    "                        print((i+1),\")\",n1,\"-\",n2,\"-\",n3,\"-\",n4,\"-\",n5,\"-\",n6)\n",
    "\n",
    "lotto222()"
   ]
  },
  {
   "cell_type": "code",
   "execution_count": null,
   "metadata": {},
   "outputs": [],
   "source": [
    "s = 0\n",
    "for x in range(90):\n",
    "    s += x\n",
    "print(s)"
   ]
  },
  {
   "cell_type": "code",
   "execution_count": null,
   "metadata": {},
   "outputs": [],
   "source": [
    "squares = [x**2 for x in range(3)]\n",
    "squares"
   ]
  },
  {
   "cell_type": "code",
   "execution_count": null,
   "metadata": {},
   "outputs": [],
   "source": [
    "seq = [[0,1], [2],[3,4,5]]\n",
    "s = 0\n",
    "for seq2 in seq:\n",
    "    for x in seq2:\n",
    "        s += x\n",
    "print(s)"
   ]
  },
  {
   "cell_type": "code",
   "execution_count": null,
   "metadata": {},
   "outputs": [],
   "source": [
    "name = input(\"Enter your first name: \")\n",
    "length = len(name)\n",
    "print(length)"
   ]
  },
  {
   "cell_type": "code",
   "execution_count": null,
   "metadata": {},
   "outputs": [],
   "source": [
    "firstname = input(\"Enter your first name: \")\n",
    "surname = input(\"Enter your surname: \")\n",
    "name = firstname + \" \" + surname\n",
    "length = len(name)\n",
    "print (name)\n",
    "print (length)"
   ]
  },
  {
   "cell_type": "code",
   "execution_count": null,
   "metadata": {},
   "outputs": [],
   "source": [
    "#022\n",
    "firstname = input(\"Enter your first name in lowercase: \")\n",
    "surname = input(\"Enter your surname in lowercase: \")\n",
    "firstname = firstname.title()\n",
    "surname = surname.title()\n",
    "name = firstname + \" \" + surname\n",
    "print(name)"
   ]
  },
  {
   "cell_type": "code",
   "execution_count": null,
   "metadata": {},
   "outputs": [],
   "source": [
    "#023\n",
    "phrase = input(\"Enter the first line of a nursery rhyme: \")\n",
    "length = len(phrase)\n",
    "print(\"this has\", length, \"letters in it\")\n",
    "start = int(input(\"Enter a starting number: \"))\n",
    "end = int(input(\"Enter an end number: \"))\n",
    "part = (phrase[start:end])\n",
    "print (part)"
   ]
  },
  {
   "cell_type": "code",
   "execution_count": null,
   "metadata": {},
   "outputs": [],
   "source": [
    "word = input(\"Enter a word: \")\n",
    "word = word.upper()\n",
    "print(word)"
   ]
  },
  {
   "cell_type": "code",
   "execution_count": null,
   "metadata": {},
   "outputs": [],
   "source": [
    "#025\n",
    "name = input(\"Ener your first name: \")\n",
    "if len(name) < 5:\n",
    "    surname = input(\"Enter your surname: \")\n",
    "    name = name + surname\n",
    "    print(name.upper())\n",
    "else:\n",
    "    print(name.lower())"
   ]
  },
  {
   "cell_type": "code",
   "execution_count": null,
   "metadata": {},
   "outputs": [],
   "source": [
    "word = input(\"Please enter a word: \")\n",
    "first = word[0]\n",
    "length = len(word)\n",
    "rest = word[1:length]\n",
    "if first != \"a\" and first != \"e\" and first != \"i\" and first != \"o\" and first != \"u\":\n",
    "    newword = rest + first + \"ay\"\n",
    "else: \n",
    "    newword = word + \"way\"\n",
    "print(newword.lower())"
   ]
  },
  {
   "cell_type": "code",
   "execution_count": null,
   "metadata": {},
   "outputs": [],
   "source": [
    "#....MATH.....\n",
    "#...027...\n",
    "num = float(input(\"Enter a number decimal: \"))\n",
    "print (num*3)\n",
    "print (\"rounder: \", round(num*2, 2))"
   ]
  },
  {
   "cell_type": "code",
   "execution_count": null,
   "metadata": {},
   "outputs": [],
   "source": [
    "#029\n",
    "import math\n",
    "num = int(input(\"enter a number: \"))\n",
    "answer = math.sqrt(num)\n",
    "print(round(answer, 2))\n",
    "print(round(math.pi, 5))"
   ]
  },
  {
   "cell_type": "code",
   "execution_count": null,
   "metadata": {},
   "outputs": [],
   "source": [
    "print(\"1) Square\")\n",
    "print(\"2) Triangle\")\n",
    "print()\n",
    "menuselection = int(input(\"Enter a number: \"))\n",
    "if menuselection == 1:\n",
    "    side = int(input(\"Ente a new number\"))\n",
    "    area = side * side\n",
    "    print(\"Area : \", area)\n",
    "elif menuselection == 2:\n",
    "    base = int(input(\"Enter the length of the base: \"))\n",
    "    height = int(input(\"Enter the height to the triangle: \"))\n",
    "    area = (base * height) / 2\n",
    "    print(\"resul shape triangle : \", area)\n",
    "else:\n",
    "    print(\"incorrect option selected\")"
   ]
  },
  {
   "cell_type": "code",
   "execution_count": null,
   "metadata": {},
   "outputs": [],
   "source": [
    "#..for_loop\n",
    "#..035....\n",
    "name = input(\"Type in your name: \")\n",
    "for i in range(0,3):\n",
    "    print(name)"
   ]
  },
  {
   "cell_type": "code",
   "execution_count": null,
   "metadata": {},
   "outputs": [],
   "source": [
    "#...036\n",
    "name = input(\"Type in your name: \")\n",
    "number = int(input(\"Enter a number: \"))\n",
    "for i in range(0, number):\n",
    "    print(name)"
   ]
  },
  {
   "cell_type": "code",
   "execution_count": null,
   "metadata": {},
   "outputs": [],
   "source": [
    "name = input(\"Enter your name: \")\n",
    "for i in name:\n",
    "    print(i)"
   ]
  },
  {
   "cell_type": "code",
   "execution_count": null,
   "metadata": {},
   "outputs": [],
   "source": [
    "num = int(input(\"ENTER a number: \"))\n",
    "name = input(\"Enter your name: \")\n",
    "for x in range(0, num):\n",
    "    for i in name:\n",
    "        print(i)"
   ]
  },
  {
   "cell_type": "code",
   "execution_count": null,
   "metadata": {},
   "outputs": [],
   "source": [
    "#..39....\n",
    "num = int(input(\"Enter a number between 1 to 13: \"))\n",
    "for i in range(1, 13):\n",
    "    answer = i * num\n",
    "    print(i, \"x\", num,\"=\", answer)"
   ]
  },
  {
   "cell_type": "code",
   "execution_count": null,
   "metadata": {},
   "outputs": [],
   "source": [
    "#..40...\n",
    "num = int(input(\"Enter a numbr below 50: \"))\n",
    "for i in range(50, num-1, -1):\n",
    "    print(i)"
   ]
  },
  {
   "cell_type": "code",
   "execution_count": null,
   "metadata": {},
   "outputs": [],
   "source": [
    "#..while....\n",
    "total = 0\n",
    "while total <= 50:\n",
    "    num = int(input(\"Enter a number: \"))\n",
    "    total = total + num\n",
    "    print(\"The total is ...\", total)"
   ]
  },
  {
   "cell_type": "code",
   "execution_count": null,
   "metadata": {},
   "outputs": [],
   "source": [
    "#...46...\n",
    "num = 0\n",
    "while num <= 5:\n",
    "    num = int(input(\"Enter a number: \"))\n",
    "print(\"The last number you entered was a\", num)"
   ]
  },
  {
   "cell_type": "code",
   "execution_count": null,
   "metadata": {},
   "outputs": [],
   "source": [
    "#...047...\n",
    "num1 = int(input(\"Enter a number: \"))\n",
    "total = num1\n",
    "again = \"y\"\n",
    "while again == \"y\":\n",
    "    num2 = int (input(\"Enter another number: \"))\n",
    "    total = total + num2\n",
    "    again = input(\"Do you want to add another number? (y/n) \")\n",
    "print(\"The total is \", total)\n"
   ]
  },
  {
   "cell_type": "code",
   "execution_count": null,
   "metadata": {},
   "outputs": [],
   "source": [
    "#...48...\n",
    "again = \"y\"\n",
    "count = 0\n",
    "while again == \"y\":\n",
    "    name = input(\"Enter a name of sombody you want to invite to your party: \")\n",
    "    print(name, \"has now been invited\")\n",
    "    count = count +1\n",
    "    again = input(\"Do you want to invite somebody else? (y/n): \")\n",
    "print(\"You have\", count, \"people coming to your party\")"
   ]
  },
  {
   "cell_type": "code",
   "execution_count": null,
   "metadata": {},
   "outputs": [],
   "source": [
    "#...49...\n",
    "compnum = 50\n",
    "guess = int(input(\"Can ypu guess the number I am thinking of= \"))\n",
    "count = 1\n",
    "while guess != compnum:\n",
    "    if guess < compnum:\n",
    "        print(\"Too low\")\n",
    "    else:\n",
    "        print(\"Too high\")\n",
    "    count = count + 1\n",
    "    guess = int(input(\"Have another guess: \"))\n",
    "print(\"Well done, you took\", count, \"attempts\")"
   ]
  },
  {
   "cell_type": "code",
   "execution_count": null,
   "metadata": {},
   "outputs": [],
   "source": [
    "#--50..\n",
    "num = int(input(\"Enter a number between 10 and 20: \"))\n",
    "while num < 10 or num > 20:\n",
    "    if num < 10:\n",
    "        print(\"too low\")\n",
    "    else: \n",
    "        print(\"too high\")\n",
    "    num = int(input(\"Try again: \"))\n",
    "print(\"Thank you\")"
   ]
  },
  {
   "cell_type": "code",
   "execution_count": null,
   "metadata": {},
   "outputs": [],
   "source": [
    "#...51...\n",
    "num = 10\n",
    "while num  > 0:\n",
    "    print(\"There are \", num, \"green bottles hanging on the wall.\")\n",
    "    print(num, \"A..........\")\n",
    "    print(\"................\")\n",
    "    num = num - 1\n",
    "    answer = int(input(\"How many green bottles will be hanging on the wal? \"))\n",
    "    if answer == num:\n",
    "        print(\"There will be\", num, \"green bottles haning on the wall\")\n",
    "    else:\n",
    "        while answer != num:\n",
    "            answer = int(input(\"No, try again: \"))\n",
    "print(\"There are no more green bottles hangung on the wall.\")"
   ]
  },
  {
   "cell_type": "code",
   "execution_count": null,
   "metadata": {},
   "outputs": [],
   "source": [
    "#-..RANDOM....\n",
    "#..52.....\n",
    "import random\n",
    "num = random.randint(1,90)\n",
    "print(num)"
   ]
  },
  {
   "cell_type": "code",
   "execution_count": null,
   "metadata": {},
   "outputs": [],
   "source": [
    "import random \n",
    "fruit = random.choice(['apple',\"orange\",\"grape\",\"pineaple\"])\n",
    "print(fruit)"
   ]
  },
  {
   "cell_type": "code",
   "execution_count": null,
   "metadata": {},
   "outputs": [],
   "source": [
    "#__54___\n",
    "import random\n",
    "coin = random.choice([\"h\",\"t\"])\n",
    "guess = input(\"Enter (h)eads or (t)ails: \")\n",
    "if guess == coin :\n",
    "    print(\"You win\")\n",
    "else:\n",
    "    print(\"bad luck\")\n",
    "if coin == \"h\":\n",
    "    print(\"It was heads\")\n",
    "else: \n",
    "    print(\"It was tails\")\n",
    "    "
   ]
  },
  {
   "cell_type": "code",
   "execution_count": null,
   "metadata": {},
   "outputs": [],
   "source": [
    "#__56__\n",
    "import random \n",
    "num = random.randint(1,10)\n",
    "correct = False\n",
    "while correct == False:\n",
    "    guess = int(input(\"Enter a number: \"))\n",
    "    if guess == num:\n",
    "        correct = True"
   ]
  },
  {
   "cell_type": "code",
   "execution_count": null,
   "metadata": {},
   "outputs": [],
   "source": [
    "#...GUI.....\n",
    "import turtle\n",
    "\n",
    "turtle.shape(\"turtle\")\n",
    "for i in range(0,5):\n",
    "    turtle.forward(100)\n",
    "    turtle.right(72)\n",
    "turtle.exitonclick()"
   ]
  },
  {
   "cell_type": "code",
   "execution_count": null,
   "metadata": {},
   "outputs": [],
   "source": [
    "import turtle\n",
    "turtle.shape(\"turtle\")\n",
    "\n",
    "for i in range(0,10):\n",
    "    turtle.right(36)\n",
    "    for i in range(0,5):\n",
    "        turtle.forward(100)\n",
    "        turtle.right(72)\n",
    "turtle.exitonclick()"
   ]
  },
  {
   "cell_type": "code",
   "execution_count": null,
   "metadata": {},
   "outputs": [],
   "source": [
    "#___60__\n",
    "\n",
    "import turtle\n",
    "\n",
    "for i in range(0,4):\n",
    "    turtle.forward(100)\n",
    "    turtle.right(90)\n",
    "\n",
    "turtle.exitonclick()"
   ]
  },
  {
   "cell_type": "code",
   "execution_count": null,
   "metadata": {},
   "outputs": [],
   "source": [
    "#___61__\n",
    "import turtle\n",
    "\n",
    "for i in range(0,3):\n",
    "    turtle.forward(100)\n",
    "    turtle.left(120)\n",
    "\n",
    "turtle.exitonclick()"
   ]
  },
  {
   "cell_type": "code",
   "execution_count": null,
   "metadata": {},
   "outputs": [],
   "source": [
    "#__62__\n",
    "import turtle\n",
    "\n",
    "for i in range(0, 360):\n",
    "    turtle.forward(1)\n",
    "    turtle.right(1)\n",
    "turtle.exitonclick()"
   ]
  },
  {
   "cell_type": "code",
   "execution_count": null,
   "metadata": {},
   "outputs": [],
   "source": [
    "#___63___\n",
    "import turtle\n",
    "\n",
    "turtle.color(\"black\",\"red\")\n",
    "turtle.begin_fill()\n",
    "for i in range(0,4):\n",
    "    turtle.forward(70)\n",
    "    turtle.right(90)\n",
    "turtle.penup()\n",
    "turtle.end_fill()\n",
    "turtle.forward(100)\n",
    "\n",
    "turtle.pendown()\n",
    "turtle.color(\"black\",\"yellow\")\n",
    "turtle.begin_fill()\n",
    "for i in range(0,4):\n",
    "    turtle.forward(70)\n",
    "    turtle.right(90)\n",
    "turtle.penup()\n",
    "turtle.end_fill()\n",
    "turtle.forward(100)\n",
    "\n",
    "turtle.pendown()\n",
    "turtle.color(\"black\",\"green\")\n",
    "turtle.begin_fill()\n",
    "for i in range(0,4):\n",
    "    turtle.forward(70)\n",
    "    turtle.right(90)\n",
    "turtle.end_fill()\n",
    "\n",
    "turtle.exitonclick()"
   ]
  },
  {
   "cell_type": "code",
   "execution_count": null,
   "metadata": {},
   "outputs": [],
   "source": [
    "#...64...\n",
    "import turtle\n",
    "for i in range(0,5):\n",
    "    turtle.forward(100)\n",
    "    turtle.right(144)\n",
    "    \n",
    "turtle.exitonclick()"
   ]
  },
  {
   "cell_type": "code",
   "execution_count": null,
   "metadata": {},
   "outputs": [],
   "source": [
    "import turtle\n",
    "\n",
    "turtle.left(90)\n",
    "turtle.forward(100)\n",
    "turtle.right(90)\n",
    "turtle.penup()\n",
    "turtle.forward(50)\n",
    "turtle.pendown()\n",
    "turtle.forward(75)\n",
    "turtle.right(90)\n",
    "turtle.forward(50)\n",
    "turtle.right(90)\n",
    "turtle.forward(75)\n",
    "turtle.left(90)\n",
    "turtle.forward(50)\n",
    "turtle.left(90)\n",
    "turtle.forward(75)\n",
    "turtle.penup()\n",
    "turtle.forward(50)\n",
    "turtle.pendown()\n",
    "turtle.forward(75)\n",
    "turtle.left(90)\n",
    "turtle.forward(50)\n",
    "turtle.left(90)\n",
    "turtle.forward(45)\n",
    "turtle.left(180)\n",
    "turtle.forward(45)\n",
    "turtle.left(90)\n",
    "turtle.forward(50)\n",
    "turtle.left(90)\n",
    "turtle.forward(75)\n",
    "\n",
    "turtle.hideturtle()\n",
    "turtle.exitonclick()"
   ]
  },
  {
   "cell_type": "code",
   "execution_count": null,
   "metadata": {},
   "outputs": [],
   "source": [
    "#...66...\n",
    "import turtle\n",
    "import random\n",
    "turtle.pensize(3)\n",
    "\n",
    "for i in range(0,8):\n",
    "    turtle.color(random.choice([\"red\",\"blue\",\"yellow\",\"green\",\"pink\",\"orange\"]))\n",
    "    turtle.forward(50)\n",
    "    turtle.right(45)\n",
    "\n",
    "    turtle.exitonclick()"
   ]
  },
  {
   "cell_type": "code",
   "execution_count": null,
   "metadata": {},
   "outputs": [],
   "source": [
    "#:..67....\n",
    "import turtle\n",
    "import random\n",
    "\n",
    "for x in range(0,10):\n",
    "    for i in range(0,8):\n",
    "        turtle.color(random.choice([\"red\",\"blue\",\"yellow\",\"green\",\"orange\"]))\n",
    "        turtle.forward(50)\n",
    "        turtle.right(45)\n",
    "    turtle.right(36)\n",
    "\n",
    "turtle.hideturtle()\n",
    "turtle.exitonclick()\n"
   ]
  },
  {
   "cell_type": "code",
   "execution_count": null,
   "metadata": {},
   "outputs": [],
   "source": [
    "#___68___\n",
    "import turtle\n",
    "import random\n",
    "\n",
    "lines = random.randint(5,20)\n",
    "\n",
    "for x in range(0, lines):\n",
    "    length = random.randint(25,100)\n",
    "    rotate = random.randint(1,365)\n",
    "    turtle.forward(length)\n",
    "    turtle.right(rotate)\n",
    "turtle.exitonclick()    "
   ]
  },
  {
   "cell_type": "code",
   "execution_count": null,
   "metadata": {},
   "outputs": [],
   "source": [
    "#...Tuples_list_dictionaries\n",
    "#...........................\n",
    "#..69\n",
    "country_tuple = (\"France\",\"Engaland\",\"Spain\", \"Germany\",\"Australia\")\n",
    "print(country_tuple)\n",
    "print()\n",
    "#country = input(\"Plese enter one of the countries from above: \")\n",
    "print(country, \"has index number\", country_tuple.index(country))\n",
    "print()\n",
    "#num = int(input(\"Enter a number betwen 0 and 4: \"))\n",
    "print(country_tuple[num])\n",
    "deporte = [\"futbol\",\"fronton\",\"karate\",\"tenis\"]\n",
    "deporte.append(input(\"What favorite sport? \"))\n",
    "deporte.sort()\n",
    "print(deporte)"
   ]
  },
  {
   "cell_type": "code",
   "execution_count": null,
   "metadata": {},
   "outputs": [],
   "source": [
    "#... 79....\n",
    "nums = []\n",
    "count = 0\n",
    "while count < 3:\n",
    "    num = int(input(\"Enter a number: \"))\n",
    "    nums.append(num)\n",
    "    print(nums)\n",
    "    count = count + 1\n",
    "\n",
    "lastnum = input(\"Do you want the last number saved(y/n): \")\n",
    "if lastnum == \"n\":\n",
    "    nums.remove(num)\n",
    "print(nums)"
   ]
  },
  {
   "cell_type": "code",
   "execution_count": null,
   "metadata": {},
   "outputs": [],
   "source": [
    "subject = input(\"Enter your favorite school subject: \")\n",
    "for letter in subject:\n",
    "    print(letter, end=\"-\")"
   ]
  },
  {
   "cell_type": "code",
   "execution_count": null,
   "metadata": {},
   "outputs": [],
   "source": [
    "word = input(\"Enter a word: \")\n",
    "length = len(word)\n",
    "num = 1\n",
    "for x in word:\n",
    "    position = length - num\n",
    "    letter = word[position]\n",
    "    print(letter)\n",
    "    num = num + 1"
   ]
  },
  {
   "cell_type": "code",
   "execution_count": null,
   "metadata": {},
   "outputs": [],
   "source": [
    "#___gui..program\n",
    "from tkinter import *\n",
    "def show_table():\n",
    "    num =num_box.get()\n",
    "    num = int(num)\n",
    "    value = 1\n",
    "    for i in range(1, 13):\n",
    "        answer = i *num\n",
    "        num_list.insert(END,(i, \"x\", num, \"=\", answerwer))\n",
    "        value = value +1\n",
    "    num_box.delete(0,END)\n",
    "    num_box.focus()\n",
    "\n",
    "def clear_list():\n",
    "    num_box.delete(0, END)\n",
    "    num_list.delete(0,END)\n",
    "    num_box.focus()\n",
    "\n",
    "window = Tk()\n",
    "window.title(\"Times Table\")\n",
    "window.geometry(\"400x280\")\n",
    "\n",
    "label1 = Label(text=\"Enter a number:\")\n",
    "label1.place(x=20,y=20, width = 100, height=25)\n",
    "\n",
    "num_box = Entry(text=0)\n",
    "num_box.place(x=120, y=20, width=100, height=25)\n",
    "num_box.focus()\n",
    "\n",
    "button1 = Button(text=\"View Times Table\",command= show_table)\n",
    "button1.place(x=250, y=20, width=120, height=25)\n",
    "\n",
    "num_list = Listbox()\n",
    "num_list.place(x=120, y=50, width=100, height=200)\n",
    "\n",
    "button2 = Button(text=\"Clear\", command=clear_list)\n",
    "button2.place(x=250, y=50, width=120, height= 25)\n",
    "\n",
    "window.mainloop()"
   ]
  },
  {
   "cell_type": "code",
   "execution_count": 1,
   "metadata": {},
   "outputs": [],
   "source": [
    "import hashlib\n",
    "import random\n",
    "import string\n",
    "import json\n",
    "import binascii\n",
    "import numpy as np\n",
    "import pandas as pd\n",
    "import pylab as pl\n",
    "import logging\n",
    "import datetime\n",
    "import collections"
   ]
  },
  {
   "cell_type": "code",
   "execution_count": 2,
   "metadata": {},
   "outputs": [],
   "source": [
    "import Crypto \n",
    "import Crypto.Random\n",
    "from Crypto.Hash import SHA\n",
    "from Crypto.PublicKey import RSA\n",
    "from Crypto.Signature import PKCS1_v1_5"
   ]
  },
  {
   "cell_type": "code",
   "execution_count": 3,
   "metadata": {},
   "outputs": [
    {
     "name": "stdout",
     "output_type": "stream",
     "text": [
      "30819f300d06092a864886f70d010101050003818d0030818902818100893efba71b17c9ef45fb82dcf11276c6c3763ea04b789c7d9a74c90ff26dca430d3d406b9b26a656b7613d4d8075d86e3f2eba7b848af47968922d5ade5b7937f6a685258b167a3a720cdb40c5cdd12af926f84ab5477b097e149202716842f8639d037fd199ca6c317f4eed8803fa46aadfe35135959984d96bce63871edb970203010001\n"
     ]
    }
   ],
   "source": [
    "class Client:\n",
    "    def __init__(self):\n",
    "        random = Crypto.Random.new().read\n",
    "        self._private_key = RSA.generate(1024, random)\n",
    "        self._public_key = self._private_key.publickey()\n",
    "        self._signer = PKCS1_v1_5.new(self._private_key)\n",
    "    \n",
    "    @property\n",
    "    def identity(self):\n",
    "        return binascii.hexlify(self._public_key.exportKey(format='DER')).decode('ascii')\n",
    "Dinesh = Client()\n",
    "print(Dinesh.identity)"
   ]
  },
  {
   "cell_type": "code",
   "execution_count": null,
   "metadata": {},
   "outputs": [],
   "source": [
    "def to_dict(self):\n",
    "    if self.sender == \"Genesis\":\n",
    "        identity = \"Genesis\"\n",
    "    else:\n",
    "        identity = self.sender.identity\n",
    "        \n",
    "    return collections.OrderedDict({\n",
    "        'sender': identity,\n",
    "        'recipient': self.recipient,\n",
    "        'value': self.value,\n",
    "        'time':self.time\n",
    "    })\n"
   ]
  }
 ],
 "metadata": {
  "kernelspec": {
   "display_name": "Python 3",
   "language": "python",
   "name": "python3"
  },
  "language_info": {
   "codemirror_mode": {
    "name": "ipython",
    "version": 3
   },
   "file_extension": ".py",
   "mimetype": "text/x-python",
   "name": "python",
   "nbconvert_exporter": "python",
   "pygments_lexer": "ipython3",
   "version": "3.6.4"
  }
 },
 "nbformat": 4,
 "nbformat_minor": 2
}
